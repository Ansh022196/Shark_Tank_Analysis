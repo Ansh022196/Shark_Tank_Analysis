{
  "nbformat": 4,
  "nbformat_minor": 0,
  "metadata": {
    "colab": {
      "private_outputs": true,
      "provenance": []
    },
    "kernelspec": {
      "name": "python3",
      "display_name": "Python 3"
    },
    "language_info": {
      "name": "python"
    }
  },
  "cells": [
    {
      "cell_type": "code",
      "execution_count": null,
      "metadata": {
        "id": "3QzAx6Cei8vu"
      },
      "outputs": [],
      "source": [
        "import pandas as pd\n",
        "from pandas import set_option\n",
        "import matplotlib.pyplot as plt\n",
        "import seaborn as sns\n",
        "import numpy as np\n",
        "from scipy.stats import norm\n",
        "from sklearn.preprocessing import StandardScaler\n",
        "from scipy import stats\n",
        "import warnings\n",
        "warnings.filterwarnings('ignore')\n",
        "%matplotlib inline"
      ]
    },
    {
      "cell_type": "code",
      "source": [
        "df =pd.read_csv(\"/content/Shark Tank India (1).csv\")"
      ],
      "metadata": {
        "id": "0rPfRXiNlMTI"
      },
      "execution_count": null,
      "outputs": []
    },
    {
      "cell_type": "code",
      "source": [
        "df.head()"
      ],
      "metadata": {
        "id": "iSXipu6Alfmu"
      },
      "execution_count": null,
      "outputs": []
    },
    {
      "cell_type": "code",
      "source": [
        "df.info()  #   yes in  this   column  null values can be accepted and   are  indeed  required "
      ],
      "metadata": {
        "id": "leDnFBe8tGI_"
      },
      "execution_count": null,
      "outputs": []
    },
    {
      "cell_type": "code",
      "source": [
        "df.describe()"
      ],
      "metadata": {
        "id": "b7s8KZAFtbTY"
      },
      "execution_count": null,
      "outputs": []
    },
    {
      "cell_type": "code",
      "source": [
        "df.columns"
      ],
      "metadata": {
        "id": "bKivED_byj3a"
      },
      "execution_count": null,
      "outputs": []
    },
    {
      "cell_type": "code",
      "source": [
        "df.isnull().sum() #   yes sum  values  are but obvious  to  the zero  we  do not  need  to  fill them "
      ],
      "metadata": {
        "id": "js5ESmZjzE0L"
      },
      "execution_count": null,
      "outputs": []
    },
    {
      "cell_type": "code",
      "source": [],
      "metadata": {
        "id": "L6qn8DOdxc3I"
      },
      "execution_count": null,
      "outputs": []
    },
    {
      "cell_type": "markdown",
      "source": [
        "Started  to analyze  the  shark tank  india show"
      ],
      "metadata": {
        "id": "N43LxYvB1Z1l"
      }
    },
    {
      "cell_type": "code",
      "source": [
        "print(df['Season Number'].max(),\"season\")\n",
        "print(df['Episode Number'].max(),\"episode\")\n",
        "print(df['Pitch Number'].max(),\"Pitch Number\")\n",
        "print(df['Episode Number'].value_counts().sort_values(ascending=True).unique(),\"Number per episode\")"
      ],
      "metadata": {
        "id": "6SD5NUe21mFw"
      },
      "execution_count": null,
      "outputs": []
    },
    {
      "cell_type": "code",
      "source": [
        "#  now we  want  to analyses about the pitchers  city \n",
        "print(df['Pitchers City'].value_counts())\n",
        "# fig=plt.figure(figsize=(23,30))\n",
        "# wx=sns.countplot(x='Pitchers City',data=df,order=df['Pitchers City'].value_counts().index)\n",
        "# wx.set_title('Shark Tank  india')"
      ],
      "metadata": {
        "id": "_fhxWtnz5ZpO"
      },
      "execution_count": null,
      "outputs": []
    },
    {
      "cell_type": "code",
      "source": [],
      "metadata": {
        "id": "6FSIzY-YhbZk"
      },
      "execution_count": null,
      "outputs": []
    },
    {
      "cell_type": "code",
      "source": [
        "print(df['Started in'].value_counts())\n",
        "fig =plt.figure(figsize=(20,10))\n",
        "px =sns.countplot(x='Started in',data=df,order=df['Started in'].value_counts().index)\n",
        "px.set_title('Shark  Tank  Started in  date')\n"
      ],
      "metadata": {
        "id": "voJXP7cWgS3T"
      },
      "execution_count": null,
      "outputs": []
    },
    {
      "cell_type": "code",
      "source": [
        "print(df['Industry'].value_counts())\n",
        "# fig =plt.figure(figsize=(30,40))\n",
        "# yx =sns.countplot(x='Industry',data =df ,order=df['Industry'].value_counts().index)\n",
        "# yx.set_title('Shark Tank India ')"
      ],
      "metadata": {
        "id": "72w8lkz7hciT"
      },
      "execution_count": null,
      "outputs": []
    },
    {
      "cell_type": "code",
      "source": [
        "print(df['Number of Presenters'].sum(),\"Total Number of pitchers\")\n",
        "print(df['Male Presenters'].sum(),\"Total Number of Male Pitchers\")\n",
        "print(df['Female Presenters'].sum(),\"Total Number of Female Pitchers\")"
      ],
      "metadata": {
        "id": "VHc07pKGlF1U"
      },
      "execution_count": null,
      "outputs": []
    },
    {
      "cell_type": "code",
      "source": [
        "round(df['Male Presenters'].sum()/df['Number of Presenters'].sum()*100)"
      ],
      "metadata": {
        "id": "nFugMdQtvupQ"
      },
      "execution_count": null,
      "outputs": []
    },
    {
      "cell_type": "code",
      "source": [
        "# now we  will  calculate the  percentage of the male     and female  entree  in the  whole   scenairo \n",
        "round(df['Male Presenters'].sum()/df['Number of Presenters'].sum()*100)\n"
      ],
      "metadata": {
        "id": "9XShgCWanLN9"
      },
      "execution_count": null,
      "outputs": []
    },
    {
      "cell_type": "code",
      "source": [
        "round(df['Female Presenters'].sum()/df['Number of Presenters'].sum()*100)"
      ],
      "metadata": {
        "id": "8iKHpxWUqQq5"
      },
      "execution_count": null,
      "outputs": []
    },
    {
      "cell_type": "markdown",
      "source": [
        "Highest revenue   bransds  in the shark tank indi"
      ],
      "metadata": {
        "id": "s_JtMWdPxdrn"
      }
    },
    {
      "cell_type": "code",
      "source": [
        "\n",
        "import plotly.express as px"
      ],
      "metadata": {
        "id": "7l5ztuEixyeY"
      },
      "execution_count": null,
      "outputs": []
    },
    {
      "cell_type": "code",
      "source": [
        "print(df.groupby('Startup Name')['Yearly Revenue'].max().nlargest(10))\n",
        "#  to make the  bar graph order batanna padega\n",
        "tmdf =df.sort_values('Yearly Revenue',ascending=False)[0:10]\n",
        "fig =px.bar(tmdf,x=\"Startup Name\",y=\"Yearly Revenue\",color =\"Startup Name\",title=\"Highest Margin start up\",template='plotly_dark')\n",
        "\n",
        "fig.show()"
      ],
      "metadata": {
        "id": "BAzb90GPxypg"
      },
      "execution_count": null,
      "outputs": []
    },
    {
      "cell_type": "code",
      "source": [
        "# how   to group the  by the starty up name \n",
        "\n",
        "print(df.groupby('Startup Name')['Yearly Revenue'].max().nlargest(10))\n",
        "#tmdf \n",
        "tmdf= df.sort_values('Yearly Revenue',ascending =False)[0:10]\n",
        "fig =px.bar(tmdf,x=\"Startup Name\",y=\"Yearly Revenue\",color =\"Startup Name\",title =\"Higest  by revenue\",template ='plotly_dark')\n",
        "fig.show()\n"
      ],
      "metadata": {
        "id": "_tqGUbZvx3KB"
      },
      "execution_count": null,
      "outputs": []
    },
    {
      "cell_type": "code",
      "source": [
        "# now we will make acc   to thht grosss margins \n"
      ],
      "metadata": {
        "id": "-M4mQSnP7ThY"
      },
      "execution_count": null,
      "outputs": []
    },
    {
      "cell_type": "code",
      "source": [
        "print(df.groupby('Startup Name')['Gross Margin'].max().nlargest(10))\n",
        "tmf=df.sort_values('Gross Margin',ascending=False)[0:10]\n",
        "dd=px.bar(tmf,x=\"Startup Name\",y=\"Gross Margin\",color=\"Startup Name\",title=\"Highest gross margi\",template='plotly_dark')\n",
        "dd.show()\n"
      ],
      "metadata": {
        "id": "mBnJ9CKG7YaH"
      },
      "execution_count": null,
      "outputs": []
    },
    {
      "cell_type": "markdown",
      "source": [],
      "metadata": {
        "id": "VxBri-w2vwbA"
      }
    },
    {
      "cell_type": "code",
      "source": [
        "print(df.groupby('Startup Name')['Gross Margin'].max().nlargest(10))\n",
        "tmf =df.sort_values('Gross Margin',ascending=False)[0:10]\n",
        "dd =px.bar(tmf,x=\"Startup Name\",y=\"Gross Margin\" ,color =\"Startup Name\",title=\"Highesy  gross margin\",template='plotly_dark')\n",
        "dd.show()"
      ],
      "metadata": {
        "id": "rNqhCbDSuNWk"
      },
      "execution_count": null,
      "outputs": []
    },
    {
      "cell_type": "code",
      "source": [
        "df.columns"
      ],
      "metadata": {
        "id": "-6D2jNWjHjMP"
      },
      "execution_count": null,
      "outputs": []
    },
    {
      "cell_type": "markdown",
      "source": [
        "now we  will  calculate the  indiviaula  contribution  from  a  shark we will make everyone personal portfolio "
      ],
      "metadata": {
        "id": "aHhjj7bjvxZX"
      }
    },
    {
      "cell_type": "code",
      "source": [
        "#   for ashneer  portfolio  we  can  just use the ashneer  investment as true and  then   yes in all  the industry '\n"
      ],
      "metadata": {
        "id": "_JtRvssNv8u_"
      },
      "execution_count": null,
      "outputs": []
    },
    {
      "cell_type": "markdown",
      "source": [
        "Ashneer  portfolio \n"
      ],
      "metadata": {
        "id": "KD8CVJitxUIS"
      }
    },
    {
      "cell_type": "code",
      "source": [
        "print(df[df['Ashneer Investment Amount']>0]['Industry'].value_counts().sort_values(ascending=False))\n",
        "\n",
        "# we  have to plot  thrt\n",
        "tmdf=df.loc[df['Ashneer Investment Amount']>0] [[ \"Startup Name\" ,\"Ashneer Investment Amount\",\"Ashneer Investment Equity\"]].sort_values(by=\"Ashneer Investment Equity\")\n",
        "fig =px.bar(tmdf,x=\"Ashneer Investment Equity\",y=\"Ashneer Investment Amount\",color=\"Startup Name\" ,title =\"Total amount vs equity received\",template='plotly_dark')\n",
        "fig.update_layout(dict(xaxis = dict(type=\"category\")))\n",
        "fig.show()"
      ],
      "metadata": {
        "id": "np9Aw_NqxWiv"
      },
      "execution_count": null,
      "outputs": []
    },
    {
      "cell_type": "code",
      "source": [],
      "metadata": {
        "id": "H30o2UUDJuKq"
      },
      "execution_count": null,
      "outputs": []
    },
    {
      "cell_type": "code",
      "source": [
        "print(df[df['Anupam Investment Amount']>0]['Industry'].value_counts().sort_values(ascending=False))\n",
        "tmdf =df.loc[df['Anupam Investment Amount']>0] [[\"Startup Name\",\"Anupam Investment Amount\",\"Anupam Investment Equity\"]].sort_values(by=\"Anupam Investment Equity\")\n",
        "fig =px.bar(tmdf,x=\"Anupam Investment Equity\",y=\"Anupam Investment Amount\",color=\"Startup Name\",title =\"Total amount vs equity received\",template ='plotly_dark')\n",
        "fig.update_layout(dict(xaxis = dict(type=\"category\")))\n",
        "fig.show()"
      ],
      "metadata": {
        "id": "Fk03Glgm3XRr"
      },
      "execution_count": null,
      "outputs": []
    },
    {
      "cell_type": "code",
      "source": [
        "print(df[df['Vineeta Investment Amount']>0]['Industry'].value_counts().sort_values(ascending=False))\n",
        "tmdf =df.loc[df['Vineeta Investment Amount']>0] [[\"Startup Name\",\"Vineeta Investment Amount\",\"Vineeta Investment Equity\"]].sort_values(by=\"Vineeta Investment Equity\")\n",
        "fig =px.bar(tmdf,x=\"Vineeta Investment Equity\",y=\"Vineeta Investment Amount\",color=\"Startup Name\",title =\"Total amount vs equity received\",template ='plotly_dark')\n",
        "fig.update_layout(dict(xaxis = dict(type=\"category\")))\n",
        "fig.show()"
      ],
      "metadata": {
        "id": "tcn5hPoLxaKi"
      },
      "execution_count": null,
      "outputs": []
    },
    {
      "cell_type": "code",
      "source": [
        "print(df[df['Aman Investment Amount']>0]['Industry'].value_counts().sort_values(ascending=False))\n",
        "tmdf =df.loc[df['Aman Investment Amount']>0] [[\"Startup Name\",\"Aman Investment Amount\",\"Aman Investment Equity\"]].sort_values(by=\"Aman Investment Equity\")\n",
        "fig =px.bar(tmdf,x=\"Aman Investment Equity\",y=\"Aman Investment Amount\",color=\"Startup Name\",title =\"Total amount vs equity received\",template ='plotly_dark')\n",
        "fig.update_layout(dict(xaxis = dict(type=\"category\")))\n",
        "fig.show()"
      ],
      "metadata": {
        "id": "aZ_tdA7uQRqb"
      },
      "execution_count": null,
      "outputs": []
    },
    {
      "cell_type": "code",
      "source": [
        "df.columns"
      ],
      "metadata": {
        "id": "hx8sRI5_QjnR"
      },
      "execution_count": null,
      "outputs": []
    },
    {
      "cell_type": "code",
      "source": [
        "print(df[df['Peyush Investment Amount']>0]['Industry'].value_counts().sort_values(ascending=False))\n",
        "tmdf =df.loc[df['Peyush Investment Amount']>0] [[\"Startup Name\",\"Peyush Investment Amount\",\"Peyush Investment Equity\"]].sort_values(by=\"Peyush Investment Equity\")\n",
        "fig =px.bar(tmdf,x=\"Peyush Investment Equity\",y=\"Peyush Investment Amount\",color=\"Startup Name\",title =\"Total amount vs equity received\",template ='plotly_dark')\n",
        "fig.update_layout(dict(xaxis = dict(type=\"category\")))\n",
        "fig.show()"
      ],
      "metadata": {
        "id": "qR8WVjgBQfmr"
      },
      "execution_count": null,
      "outputs": []
    },
    {
      "cell_type": "code",
      "source": [],
      "metadata": {
        "id": "jg7SyyOALcuj"
      },
      "execution_count": null,
      "outputs": []
    },
    {
      "cell_type": "markdown",
      "source": [],
      "metadata": {
        "id": "qx_-f7XoLdki"
      }
    },
    {
      "cell_type": "code",
      "source": [
        "print(df[df['Namita Investment Amount']>0]['Industry'].value_counts().sort_values(ascending=False))\n",
        "tmdf =df.loc[df['Namita Investment Amount']>0] [[\"Startup Name\",\"Namita Investment Amount\",\"Namita Investment Equity\"]].sort_values(by=\"Namita Investment Equity\")\n",
        "fig =px.bar(tmdf,x=\"Namita Investment Equity\",y=\"Namita Investment Amount\",color=\"Startup Name\",title =\"Total amount vs equity received\",template ='plotly_dark')\n",
        "fig.update_layout(dict(xaxis = dict(type=\"category\")))\n",
        "fig.show()"
      ],
      "metadata": {
        "id": "8TIYMBbWQ5ub"
      },
      "execution_count": null,
      "outputs": []
    },
    {
      "cell_type": "markdown",
      "source": [
        "# now we are  just creating the individual sharks   portfolio     for the   format in the   csv   format of the   following "
      ],
      "metadata": {
        "id": "G3u4xOkGLed0"
      }
    },
    {
      "cell_type": "code",
      "source": [
        "# creating the    portfolio of  shark   piyyush bansal \n",
        "print(\"Piyush Bansal Total Investment :--\" , df[df['Peyush Investment Amount']>0]['Peyush Investment Amount'].count())\n",
        "print(\"Amount Total Invested by Bansal:\",df['Peyush Investment Amount'].sum()/100,\"crr\")\n",
        "print(\"Equity received by Peyush\", round(df['Peyush Investment Equity'].sum(), 2), \"% in different companies\\n\")\n",
        "print(\"Debt/loan amount by Peyush\", round(df['Peyush Debt Amount'].sum()/100, 2), \"crores\\n\")\n",
        "txt=df.loc[df['Peyush Investment Amount']>0][[\"Startup Name\",\"Industry\",\"Peyush Investment Amount\"]].reset_index()\n",
        "txt"
      ],
      "metadata": {
        "id": "z7xsC7gyLscx"
      },
      "execution_count": null,
      "outputs": []
    },
    {
      "cell_type": "code",
      "source": [
        "a=np.array(txt)\n",
        "a"
      ],
      "metadata": {
        "id": "ziKGddwWMvub"
      },
      "execution_count": null,
      "outputs": []
    },
    {
      "cell_type": "code",
      "source": [
        "import pickle\n",
        "import csv\n",
        "\n",
        "# open the file in the write mode\n",
        "titles=[\t'index\tStartup Name'\t,'Industry'\t,'Peyush Investment Amount']\n",
        "x = np.delete(a , (), axis=0)\n",
        "x\n",
        "with open(r'C:\\Users\\anshr\\OneDrive\\Desktop\\Shark_Tank\\PBBBB.csv', 'w') as f:\n",
        "    # create the csv writer\n",
        "    writer = csv.writer(f)\n",
        "    writer.writerow(titles)\n",
        "    # write a row to the csv file\n",
        "    writer.writerows(x)"
      ],
      "metadata": {
        "id": "tQXlAXUgKfIs"
      },
      "execution_count": null,
      "outputs": []
    },
    {
      "cell_type": "code",
      "source": [],
      "metadata": {
        "id": "YNS28kN5ORg_"
      },
      "execution_count": null,
      "outputs": []
    },
    {
      "cell_type": "code",
      "source": [],
      "metadata": {
        "id": "rq6YqoYLOOQ9"
      },
      "execution_count": null,
      "outputs": []
    },
    {
      "cell_type": "markdown",
      "source": [],
      "metadata": {
        "id": "K6ipPR0oKzH3"
      }
    },
    {
      "cell_type": "markdown",
      "source": [],
      "metadata": {
        "id": "6abTGauOPSH1"
      }
    },
    {
      "cell_type": "markdown",
      "source": [],
      "metadata": {
        "id": "ypnIwUw4PRbY"
      }
    },
    {
      "cell_type": "code",
      "source": [
        "print(\"Aman Gupta Total Investment :---\", df[df['Aman Investment Amount']>0]['Aman Investment Amount'].count())\n",
        "print(\"Amount Total Invested by Bansal:\",df['Aman Investment Amount'].sum()/100,\"crr\")\n",
        "print(\"Equity received by Peyush\", round(df['Aman Investment Equity'].sum(), 2), \"% in different companies\\n\")\n",
        "print(\"Debt/loan amount by Peyush\", round(df['Aman Debt Amount'].sum()/100, 2), \"crores\\n\")\n",
        "print(df.loc[df['Aman Investment Amount']>0][[\"Startup Name\",\"Industry\",\"Aman Investment Amount\"]].reset_index())"
      ],
      "metadata": {
        "id": "cp5YzfZLOn0X"
      },
      "execution_count": null,
      "outputs": []
    },
    {
      "cell_type": "code",
      "source": [],
      "metadata": {
        "id": "NcJNJYRaEHaV"
      },
      "execution_count": null,
      "outputs": []
    },
    {
      "cell_type": "code",
      "source": [
        "print(\"Anupam  Total Investment :---\", df[df['Anupam Investment Amount']>0]['Anupam Investment Amount'].count())\n",
        "print(\"Amount Total Invested by Anupam:\",df['Anupam Investment Amount'].sum()/100,\"crr\")\n",
        "print(\"Equity received by Peyush\", round(df['Anupam Investment Equity'].sum(), 2), \"% in different companies\\n\")\n",
        "print(\"Debt/loan amount by Peyush\", round(df['Anupam Debt Amount'].sum()/100, 2), \"crores\\n\")\n",
        "er=df.loc[df['Anupam Investment Amount']>0][[\"Startup Name\",\"Industry\",\"Anupam Investment Amount\"]].reset_index()"
      ],
      "metadata": {
        "id": "SoTB-rHbEHeS"
      },
      "execution_count": null,
      "outputs": []
    },
    {
      "cell_type": "code",
      "source": [
        "essf=np.array(er)"
      ],
      "metadata": {
        "id": "YjnpGV3BEeb8"
      },
      "execution_count": null,
      "outputs": []
    },
    {
      "cell_type": "code",
      "source": [],
      "metadata": {
        "id": "tSxD6NwT_hkP"
      },
      "execution_count": null,
      "outputs": []
    },
    {
      "cell_type": "code",
      "source": [
        "import pickle\n",
        "import csv\n",
        "\n",
        "# open the file in the write mode\n",
        "titles=[\t'index\tStartup Name'\t,'Industry'\t,'Anupam Mittal Investment Amount']\n",
        "x = np.delete(essf , (), axis=0)\n",
        "x\n",
        "with open(r'C:\\Users\\anshr\\OneDrive\\Desktop\\Shark_Tank\\ANupam.csv', 'w') as f:\n",
        "    # create the csv writer\n",
        "    writer = csv.writer(f)\n",
        "    writer.writerow(titles)\n",
        "    # write a row to the csv file\n",
        "    writer.writerows(x)"
      ],
      "metadata": {
        "id": "TAAjd03jPRxA"
      },
      "execution_count": null,
      "outputs": []
    },
    {
      "cell_type": "code",
      "source": [
        "print(\"Ashneer Total Investment :---\", df[df['Ashneer Investment Amount']>0]['Ashneer Investment Amount'].count())\n",
        "print(\"Amount Total Invested b Ashneer:\",df['Ashneer Investment Amount'].sum()/100,\"crr\")\n",
        "print(\"Equity received by Anshner\", round(df['Ashneer Investment Equity'].sum(), 2), \"% in different companies\\n\")\n",
        "print(\"Debt/loan amount by Ashneer\", round(df['Ashneer Debt Amount'].sum()/100, 2), \"crores\\n\")\n",
        "AG=df.loc[df['Ashneer Investment Amount']>0][[\"Startup Name\",\"Industry\",\"Ashneer Investment Amount\"]].reset_index()\n"
      ],
      "metadata": {
        "id": "4Ak-53R3O7he"
      },
      "execution_count": null,
      "outputs": []
    },
    {
      "cell_type": "code",
      "source": [
        "hjs=np.array(AG)\n"
      ],
      "metadata": {
        "id": "66F8RBt-ApgV"
      },
      "execution_count": null,
      "outputs": []
    },
    {
      "cell_type": "code",
      "source": [
        "import pickle\n",
        "import csv\n",
        "\n",
        "# open the file in the write mode\n",
        "titles=[\t'index\tStartup Name'\t,'Industry'\t,'Ashneer Investment Amount']\n",
        "x = np.delete(hjs , (), axis=0)\n",
        "x\n",
        "with open(r'C:\\Users\\anshr\\OneDrive\\Desktop\\Shark_Tank\\Bhartpe.csv', 'w') as f:\n",
        "    # create the csv writer\n",
        "    writer = csv.writer(f)\n",
        "    writer.writerow(titles)\n",
        "    # write a row to the csv file\n",
        "    writer.writerows(x)"
      ],
      "metadata": {
        "id": "FtDfKyeuAwSk"
      },
      "execution_count": null,
      "outputs": []
    },
    {
      "cell_type": "code",
      "source": [
        "print(\"Namita Total Investment :---\", df[df['Namita Investment Amount']>0]['Namita Investment Amount'].count())\n",
        "print(\"Amount Total Invested b Namita:\",df['Namita Investment Amount'].sum()/100,\"crr\")\n",
        "print(\"Equity received by Namita\", round(df['Namita Investment Equity'].sum(), 2), \"% in different companies\\n\")\n",
        "print(\"Debt/loan amount by Namita\", round(df['Namita Debt Amount'].sum()/100, 2), \"crores\\n\")\n",
        "t=df.loc[df['Namita Investment Amount']>0][[\"Startup Name\",\"Industry\",\"Namita Investment Amount\"]].reset_index()"
      ],
      "metadata": {
        "id": "qoH_1BxwNzon"
      },
      "execution_count": null,
      "outputs": []
    },
    {
      "cell_type": "code",
      "source": [
        "gh=np.array(t)\n",
        "gh"
      ],
      "metadata": {
        "id": "H0fKrBm993w1"
      },
      "execution_count": null,
      "outputs": []
    },
    {
      "cell_type": "code",
      "source": [
        "import pickle\n",
        "import csv\n",
        "\n",
        "# open the file in the write mode\n",
        "titles=[\t'index\tStartup Name'\t,'Industry'\t,'Namita Investment Amount']\n",
        "x = np.delete(gh , (), axis=0)\n",
        "x\n",
        "with open(r'C:\\Users\\anshr\\OneDrive\\Desktop\\Shark_Tank\\NamitaThapar.csv', 'w') as f:\n",
        "    # create the csv writer\n",
        "    writer = csv.writer(f)\n",
        "    writer.writerow(titles)\n",
        "    # write a row to the csv file\n",
        "    writer.writerows(x)"
      ],
      "metadata": {
        "id": "BTUPqDcv-FHv"
      },
      "execution_count": null,
      "outputs": []
    },
    {
      "cell_type": "code",
      "source": [
        "print(\"Vineeta Total Investment :---\", df[df['Vineeta Investment Amount']>0]['Vineeta Investment Amount'].count())\n",
        "print(\"Amount Total Invested b Vineeta:\",df['Vineeta Investment Amount'].sum()/100,\"crr\")\n",
        "print(\"Equity received by Vineeta\", round(df['Vineeta Debt Amount'].sum()/100, 2), \"crores\\n\")\n",
        "vine=df.loc[df['Vineeta Investment Amount']>0][[\"Startup Name\",\"Industry\",\"Vineeta Investment Amount\"]].reset_index()"
      ],
      "metadata": {
        "id": "fkKNagtfWhwx"
      },
      "execution_count": null,
      "outputs": []
    },
    {
      "cell_type": "code",
      "source": [
        "v=np.array(vine)\n",
        "v"
      ],
      "metadata": {
        "id": "-PnYz2I4-7_H"
      },
      "execution_count": null,
      "outputs": []
    },
    {
      "cell_type": "code",
      "source": [
        "import pickle\n",
        "import csv\n",
        "\n",
        "# open the file in the write mode\n",
        "titles=[\t'index\tStartup Name'\t,'Industry'\t,'Vineeta Investment Amount']\n",
        "x = np.delete(v , (), axis=0)\n",
        "x\n",
        "with open(r'C:\\Users\\anshr\\OneDrive\\Desktop\\Shark_Tank\\Vinneta.csv', 'w') as f:\n",
        "    # create the csv writer\n",
        "    writer = csv.writer(f)\n",
        "    writer.writerow(titles)\n",
        "    # write a row to the csv file\n",
        "    writer.writerows(x)"
      ],
      "metadata": {
        "id": "P49FBxrM-_7W"
      },
      "execution_count": null,
      "outputs": []
    },
    {
      "cell_type": "code",
      "source": [
        "df.columns"
      ],
      "metadata": {
        "id": "MulqW4QyWyop"
      },
      "execution_count": null,
      "outputs": []
    }
  ]
}